{
 "cells": [
  {
   "cell_type": "markdown",
   "metadata": {},
   "source": [
    "# Coursework 2\n",
    "# General Instructions\n",
    "In this CW, we apply predictive modelling in building investment strategies. \n",
    "\n",
    "The data required to run this notebook (including the notebook itself) is shared on Moodle-->coursework. The data is saved in a pickle format with the file name \"clean_data_v2.pickle\". You can find this in CW 1. \n",
    "\n",
    "You need to save this file on your PC, and then load it using an appropriate file path. There are five exercises for this CW. \n",
    "\n",
    "For this CW, no preliminary codes are provided and you must build the entire notebook by yourself.\n",
    "\n",
    "No approximated number of lines for this CW is provided. \n",
    "\n",
    "Marks for each exercise are shown in brackets; note that these marks are provisional and they might be changed. \n",
    "\n",
    "If you need some parameters which are not specified to you, you can choose them at your will but the choice should be justified.\n",
    "\n",
    "Where applicable, for simplicity, in forming training, validation, and testing set, use only continuous features.\n",
    "\n",
    "No short selling is allowed.\n",
    "\n",
    "The weight of a selected loan in a portfolio is either zero or one, i.e. no partial weights are allowed.\n",
    "\n",
    "It is advised to support your coding with brief comments.\n",
    "\n",
    "You can copy some of the codes from CW1 if required.\n"
   ]
  },
  {
   "cell_type": "markdown",
   "metadata": {},
   "source": [
    "# Provide all the necessary preliminaries such as importing libraries, dataset, etc after this block and before Exercise 3.1."
   ]
  },
  {
   "cell_type": "code",
   "execution_count": 41,
   "metadata": {},
   "outputs": [],
   "source": [
    "import pandas as pd\n",
    "import matplotlib.pyplot as plt\n",
    "import matplotlib.axes as ax\n",
    "import numpy as np\n",
    "import pickle\n",
    "import seaborn as sns\n",
    "from sklearn.model_selection import train_test_split\n",
    "from sklearn.linear_model import Ridge\n",
    "from sklearn.ensemble import RandomForestClassifier\n",
    "from sklearn.linear_model import LogisticRegression\n",
    "from sklearn.preprocessing import StandardScaler\n",
    "from sklearn.preprocessing import MinMaxScaler\n",
    "from sklearn.pipeline import make_pipeline\n",
    "from sklearn.svm import SVC\n",
    "from keras.models import Sequential\n",
    "from keras.layers import Dense, Activation\n",
    "import warnings\n",
    "from keras.layers import Dropout\n",
    "\n",
    "warnings.filterwarnings('ignore')\n",
    "\n",
    "data, discrete_features, continuous_features = pickle.load( \n",
    "open( \"./clean_data_v2.pickle\", \"rb\" ) )\n",
    "default_seed=1\n",
    "#putting all return names in one list\n",
    "return_cols=[\"return_1\",\"return_2\",\"return_3a\",\"return_3b\",\"return_3c\"]"
   ]
  },
  {
   "cell_type": "code",
   "execution_count": 42,
   "metadata": {},
   "outputs": [
    {
     "data": {
      "text/html": [
       "<div>\n",
       "<style scoped>\n",
       "    .dataframe tbody tr th:only-of-type {\n",
       "        vertical-align: middle;\n",
       "    }\n",
       "\n",
       "    .dataframe tbody tr th {\n",
       "        vertical-align: top;\n",
       "    }\n",
       "\n",
       "    .dataframe thead th {\n",
       "        text-align: right;\n",
       "    }\n",
       "</style>\n",
       "<table border=\"1\" class=\"dataframe\">\n",
       "  <thead>\n",
       "    <tr style=\"text-align: right;\">\n",
       "      <th></th>\n",
       "      <th>id</th>\n",
       "      <th>loan_amnt</th>\n",
       "      <th>funded_amnt</th>\n",
       "      <th>term</th>\n",
       "      <th>int_rate</th>\n",
       "      <th>installment</th>\n",
       "      <th>grade</th>\n",
       "      <th>emp_length</th>\n",
       "      <th>home_ownership</th>\n",
       "      <th>annual_inc</th>\n",
       "      <th>...</th>\n",
       "      <th>total_pymnt</th>\n",
       "      <th>last_pymnt_d</th>\n",
       "      <th>recoveries</th>\n",
       "      <th>loan_length</th>\n",
       "      <th>term_num</th>\n",
       "      <th>ret_PESS</th>\n",
       "      <th>ret_OPT</th>\n",
       "      <th>ret_INTa</th>\n",
       "      <th>ret_INTb</th>\n",
       "      <th>ret_INTc</th>\n",
       "    </tr>\n",
       "  </thead>\n",
       "  <tbody>\n",
       "    <tr>\n",
       "      <th>0</th>\n",
       "      <td>40390412</td>\n",
       "      <td>5000.0</td>\n",
       "      <td>5000.0</td>\n",
       "      <td>36 months</td>\n",
       "      <td>12.39</td>\n",
       "      <td>167.01</td>\n",
       "      <td>C</td>\n",
       "      <td>&lt; 1 year</td>\n",
       "      <td>RENT</td>\n",
       "      <td>48000.0</td>\n",
       "      <td>...</td>\n",
       "      <td>5475.14000</td>\n",
       "      <td>2015-12-01</td>\n",
       "      <td>0.0</td>\n",
       "      <td>10.973531</td>\n",
       "      <td>36</td>\n",
       "      <td>0.031676</td>\n",
       "      <td>0.103917</td>\n",
       "      <td>0.031155</td>\n",
       "      <td>0.050634</td>\n",
       "      <td>0.086751</td>\n",
       "    </tr>\n",
       "    <tr>\n",
       "      <th>2</th>\n",
       "      <td>40401108</td>\n",
       "      <td>17000.0</td>\n",
       "      <td>17000.0</td>\n",
       "      <td>36 months</td>\n",
       "      <td>12.39</td>\n",
       "      <td>567.82</td>\n",
       "      <td>C</td>\n",
       "      <td>1 year</td>\n",
       "      <td>RENT</td>\n",
       "      <td>53000.0</td>\n",
       "      <td>...</td>\n",
       "      <td>20452.09912</td>\n",
       "      <td>2018-03-01</td>\n",
       "      <td>0.0</td>\n",
       "      <td>37.947391</td>\n",
       "      <td>36</td>\n",
       "      <td>0.067688</td>\n",
       "      <td>0.064215</td>\n",
       "      <td>0.050574</td>\n",
       "      <td>0.066334</td>\n",
       "      <td>0.094950</td>\n",
       "    </tr>\n",
       "    <tr>\n",
       "      <th>3</th>\n",
       "      <td>40501689</td>\n",
       "      <td>9000.0</td>\n",
       "      <td>9000.0</td>\n",
       "      <td>36 months</td>\n",
       "      <td>14.31</td>\n",
       "      <td>308.96</td>\n",
       "      <td>C</td>\n",
       "      <td>6 years</td>\n",
       "      <td>RENT</td>\n",
       "      <td>39000.0</td>\n",
       "      <td>...</td>\n",
       "      <td>9792.56000</td>\n",
       "      <td>2015-11-01</td>\n",
       "      <td>0.0</td>\n",
       "      <td>9.987885</td>\n",
       "      <td>36</td>\n",
       "      <td>0.029354</td>\n",
       "      <td>0.105803</td>\n",
       "      <td>0.029798</td>\n",
       "      <td>0.049345</td>\n",
       "      <td>0.085622</td>\n",
       "    </tr>\n",
       "    <tr>\n",
       "      <th>4</th>\n",
       "      <td>40352737</td>\n",
       "      <td>14000.0</td>\n",
       "      <td>14000.0</td>\n",
       "      <td>36 months</td>\n",
       "      <td>11.99</td>\n",
       "      <td>464.94</td>\n",
       "      <td>B</td>\n",
       "      <td>6 years</td>\n",
       "      <td>RENT</td>\n",
       "      <td>44000.0</td>\n",
       "      <td>...</td>\n",
       "      <td>16592.91130</td>\n",
       "      <td>2018-01-01</td>\n",
       "      <td>0.0</td>\n",
       "      <td>36.008953</td>\n",
       "      <td>36</td>\n",
       "      <td>0.061736</td>\n",
       "      <td>0.061721</td>\n",
       "      <td>0.047093</td>\n",
       "      <td>0.063007</td>\n",
       "      <td>0.091937</td>\n",
       "    </tr>\n",
       "    <tr>\n",
       "      <th>5</th>\n",
       "      <td>40431323</td>\n",
       "      <td>10000.0</td>\n",
       "      <td>10000.0</td>\n",
       "      <td>60 months</td>\n",
       "      <td>19.24</td>\n",
       "      <td>260.73</td>\n",
       "      <td>E</td>\n",
       "      <td>10+ years</td>\n",
       "      <td>MORTGAGE</td>\n",
       "      <td>130000.0</td>\n",
       "      <td>...</td>\n",
       "      <td>15122.07997</td>\n",
       "      <td>2018-10-01</td>\n",
       "      <td>0.0</td>\n",
       "      <td>44.978336</td>\n",
       "      <td>60</td>\n",
       "      <td>0.102442</td>\n",
       "      <td>0.136655</td>\n",
       "      <td>0.113866</td>\n",
       "      <td>0.131897</td>\n",
       "      <td>0.164518</td>\n",
       "    </tr>\n",
       "  </tbody>\n",
       "</table>\n",
       "<p>5 rows × 33 columns</p>\n",
       "</div>"
      ],
      "text/plain": [
       "         id  loan_amnt  funded_amnt        term  int_rate  installment grade  \\\n",
       "0  40390412     5000.0       5000.0   36 months     12.39       167.01     C   \n",
       "2  40401108    17000.0      17000.0   36 months     12.39       567.82     C   \n",
       "3  40501689     9000.0       9000.0   36 months     14.31       308.96     C   \n",
       "4  40352737    14000.0      14000.0   36 months     11.99       464.94     B   \n",
       "5  40431323    10000.0      10000.0   60 months     19.24       260.73     E   \n",
       "\n",
       "  emp_length home_ownership  annual_inc  ...  total_pymnt last_pymnt_d  \\\n",
       "0   < 1 year           RENT     48000.0  ...   5475.14000   2015-12-01   \n",
       "2     1 year           RENT     53000.0  ...  20452.09912   2018-03-01   \n",
       "3    6 years           RENT     39000.0  ...   9792.56000   2015-11-01   \n",
       "4    6 years           RENT     44000.0  ...  16592.91130   2018-01-01   \n",
       "5  10+ years       MORTGAGE    130000.0  ...  15122.07997   2018-10-01   \n",
       "\n",
       "  recoveries loan_length  term_num  ret_PESS   ret_OPT  ret_INTa  ret_INTb  \\\n",
       "0        0.0   10.973531        36  0.031676  0.103917  0.031155  0.050634   \n",
       "2        0.0   37.947391        36  0.067688  0.064215  0.050574  0.066334   \n",
       "3        0.0    9.987885        36  0.029354  0.105803  0.029798  0.049345   \n",
       "4        0.0   36.008953        36  0.061736  0.061721  0.047093  0.063007   \n",
       "5        0.0   44.978336        60  0.102442  0.136655  0.113866  0.131897   \n",
       "\n",
       "   ret_INTc  \n",
       "0  0.086751  \n",
       "2  0.094950  \n",
       "3  0.085622  \n",
       "4  0.091937  \n",
       "5  0.164518  \n",
       "\n",
       "[5 rows x 33 columns]"
      ]
     },
     "execution_count": 42,
     "metadata": {},
     "output_type": "execute_result"
    }
   ],
   "source": [
    "data.head()"
   ]
  },
  {
   "cell_type": "code",
   "execution_count": 43,
   "metadata": {},
   "outputs": [
    {
     "name": "stdout",
     "output_type": "stream",
     "text": [
      "['home_ownership', 'grade', 'emp_length', 'purpose', 'verification_status', 'term']\n",
      "['loan_amnt', 'funded_amnt', 'installment', 'annual_inc', 'dti', 'revol_bal', 'delinq_2yrs', 'open_acc', 'pub_rec', 'fico_range_high', 'fico_range_low', 'int_rate', 'revol_util']\n"
     ]
    }
   ],
   "source": [
    "print(discrete_features)\n",
    "print(continuous_features)"
   ]
  },
  {
   "cell_type": "code",
   "execution_count": 44,
   "metadata": {},
   "outputs": [],
   "source": [
    "#Return Number 1\n",
    "data['return_1'] = ( (data.total_pymnt - data.funded_amnt) \n",
    "                                            / data.funded_amnt ) * (12 / data['term_num'])\n",
    "\n",
    "\n",
    "#Return Number 2\n",
    "# Assuming that if a loan gives a positive return, we can immediately find a similar loan to invest in; if the loan \n",
    "# takes a loss, we use modify the return based on the return_1\n",
    "\n",
    "\n",
    "data['return_2'] = ( (data.total_pymnt - data.funded_amnt)\n",
    "                                            / data.funded_amnt ) * (12 / data['loan_length'])\n",
    "data.loc[data.return_2 < 0,'return_2'] = data.return_1[data.return_2 < 0]"
   ]
  },
  {
   "cell_type": "code",
   "execution_count": 45,
   "metadata": {},
   "outputs": [],
   "source": [
    "def ret_method_3(data, T, i):\n",
    "    '''\n",
    "    Given an investment time horizon (in months) and re-investment\n",
    "    interest rate, calculate the return of each loan\n",
    "    '''\n",
    "    \n",
    "    # Assuming that the total amount paid back was paid at equal\n",
    "    # intervals during the duration of the loan, calculate the\n",
    "    # size of each of these installment\n",
    "    actual_installment = (data.total_pymnt - data.recoveries) / data['loan_length']\n",
    "\n",
    "    # Assuming the amount is immediately re-invested at the prime\n",
    "    # rate, find the total amount of money we'll have by the end\n",
    "    # of the loan\n",
    "    cash_by_end_of_loan = actual_installment * (1 - pow(1 + i, data.loan_length)) / ( 1 - (1 + i) )\n",
    "    \n",
    "    cash_by_end_of_loan = cash_by_end_of_loan + data.recoveries\n",
    "    \n",
    "    # Assuming that cash is then re-invested at the prime rate,\n",
    "    # with monthly re-investment, until T months from the start\n",
    "    # of the loan\n",
    "    remaining_months = T - data['loan_length']\n",
    "    final_return = cash_by_end_of_loan * pow(1 + i, remaining_months)\n",
    "\n",
    "    # Find the percentage return\n",
    "    return( (12/T) * ( ( final_return - data['funded_amnt'] ) / data['funded_amnt'] ) )\n",
    "\n",
    "\n",
    "#--------------------------------------"
   ]
  },
  {
   "cell_type": "code",
   "execution_count": 46,
   "metadata": {},
   "outputs": [],
   "source": [
    "#Calculating three different types of returns based on the ret_method_3\n",
    "data['return_3a'] = ret_method_3(data, 5*12, 0.001)\n",
    "data['return_3b'] = ret_method_3(data, 5*12, 0.0025)\n",
    "data['return_3c'] = ret_method_3(data, 5*12, 0.005)"
   ]
  },
  {
   "cell_type": "code",
   "execution_count": 47,
   "metadata": {},
   "outputs": [
    {
     "data": {
      "text/plain": [
       "0    0\n",
       "2    0\n",
       "3    0\n",
       "4    0\n",
       "5    0\n",
       "Name: outcome, dtype: int64"
      ]
     },
     "execution_count": 47,
     "metadata": {},
     "output_type": "execute_result"
    }
   ],
   "source": [
    "data[\"outcome\"] = data.loan_status.isin([\"Charged Off\", \"Default\"])\n",
    "data[\"outcome\"]=data[\"outcome\"].apply(lambda x: 1 if x==True else 0)\n",
    "data[\"outcome\"].head()"
   ]
  },
  {
   "cell_type": "code",
   "execution_count": 48,
   "metadata": {},
   "outputs": [],
   "source": [
    "x_continuous = data[continuous_features]\n",
    "y = data.outcome.values\n",
    "\n",
    "#store return values in y_return\n",
    "y_return1 = data.return_1\n",
    "y_return2 = data.return_2\n",
    "y_return3a = data.return_3a\n",
    "y_return3b = data.return_3b\n",
    "y_return3c = data.return_3c"
   ]
  },
  {
   "cell_type": "code",
   "execution_count": 49,
   "metadata": {},
   "outputs": [],
   "source": [
    "# initialize the column names of the continuous data\n",
    "# performin min-max scaling each continuous feature column to\n",
    "# the range [0, 1]\n",
    "#cs = MinMaxScaler()\n",
    "#x_continuous = cs.fit_transform(x_continuous)"
   ]
  },
  {
   "cell_type": "markdown",
   "metadata": {},
   "source": [
    "# Random Based Strategy\n",
    "# Exercise 3.1 --- [8/30]\n",
    "\n",
    "In this part, you have to implement the random based strategy, i.e. choose loans completely at random (uniform distribution), and build a portfolio made of these randomly chosen loans. You then calculate the average return (using the test dataset) of an investor if they use this strategy in long run. In what follows, more details\n",
    "are provided.\n",
    "\n",
    "Split the dataset into training set, test set, and cross validation (though you will not use the training and the cross validation set for this exercise): 60% training, 20% cross validation, and 20% testing. For default seed use 1. \n",
    "\n",
    "In this exercise, use the following notions of returns [\"return_1\",\"return_2\",\"return_3a\",\"return_3b\",\"return_3c\"], these returns are exactly the same as CW1. For return_3 use the solution of CW1.\n",
    "\n",
    "The goal is to estimate the average returns (using the test set) that an investor might obtain following this random based strategy. In order to do that fix the number of iteration to be 1000, then for each iteration, you build a random portfolio by randomly selecting 100 loans from the test dataset. Note that in your random selection, no selection with partial weights is allowed. More precisely, if the returns of 100 randomly selected loans are $(r_1, r_2,..., r_{100})$, the weight of each $r_i$, $i=1,2,...,100$ in the random portfolio will be 0.01, however, in the initial random selection the whole $r_i$ is selected.  Based on this dataset and for each notion of return in ['return_1', 'return_2', 'return_3a', 'return_3b', 'return_3c'], calculate the average returns that an investor might obtain following this random strategy.\n",
    "\n",
    "Provide your solution after this block. Do not forget to print your result.\n"
   ]
  },
  {
   "cell_type": "code",
   "execution_count": 73,
   "metadata": {},
   "outputs": [],
   "source": [
    "x_train, x_test, y_return_train1, y_return_test1 = train_test_split(x_continuous, y_return1, test_size=0.4,\n",
    "                                                                  random_state=default_seed) \n",
    "x_test, x_val, y_return_test1, y_return_val1 = train_test_split(x_test, y_return_test1, test_size=0.5,\n",
    "                                                                  random_state=default_seed) "
   ]
  },
  {
   "cell_type": "code",
   "execution_count": 74,
   "metadata": {},
   "outputs": [],
   "source": [
    "x_train, x_test, y_return_train2, y_return_test2 = train_test_split(x_continuous, y_return2, test_size=0.4,\n",
    "                                                                  random_state=default_seed) \n",
    "x_test, x_val, y_return_test2, y_return_val2 = train_test_split(x_test, y_return_test2, test_size=0.5,\n",
    "                                                                  random_state=default_seed) "
   ]
  },
  {
   "cell_type": "code",
   "execution_count": 75,
   "metadata": {},
   "outputs": [],
   "source": [
    "x_train, x_test, y_return_train3a, y_return_test3a = train_test_split(x_continuous, y_return3a, test_size=0.4,\n",
    "                                                                  random_state=default_seed) \n",
    "x_test, x_val, y_return_test3a, y_return_val3a = train_test_split(x_test, y_return_test3a, test_size=0.5,\n",
    "                                                                  random_state=default_seed) "
   ]
  },
  {
   "cell_type": "code",
   "execution_count": 76,
   "metadata": {},
   "outputs": [],
   "source": [
    "x_train, x_test, y_return_train3b, y_return_test3b = train_test_split(x_continuous, y_return3b, test_size=0.4,\n",
    "                                                                  random_state=default_seed) \n",
    "x_test, x_val, y_return_test3b, y_return_val3b = train_test_split(x_test, y_return_test3b, test_size=0.5,\n",
    "                                                                  random_state=default_seed) "
   ]
  },
  {
   "cell_type": "code",
   "execution_count": 77,
   "metadata": {},
   "outputs": [],
   "source": [
    "x_train, x_test, y_return_train3c, y_return_test3c = train_test_split(x_continuous, y_return3c, test_size=0.4,\n",
    "                                                                  random_state=default_seed) \n",
    "x_test, x_val, y_return_test3c, y_return_val3c = train_test_split(x_test, y_return_test3c, test_size=0.5,\n",
    "                                                                  random_state=default_seed) "
   ]
  },
  {
   "cell_type": "code",
   "execution_count": 78,
   "metadata": {},
   "outputs": [
    {
     "name": "stdout",
     "output_type": "stream",
     "text": [
      "The average returns of return1  is 0.0056673844564332195\n",
      "The average returns of return2  is 0.04624899351502564\n",
      "The average returns of return3a is 0.012583900124201861\n",
      "The average returns of return3b is 0.028523575051907536\n",
      "The average returns of return3c is 0.057671676723057584\n"
     ]
    }
   ],
   "source": [
    "r1=[]\n",
    "r2=[]\n",
    "r3a=[]\n",
    "r3b=[]\n",
    "r3c=[]\n",
    "for i in range(1000):\n",
    "    r1.append(np.mean(y_return_test1.sample(n=100)))\n",
    "    r2.append(np.mean(y_return_test2.sample(n=100)))\n",
    "    r3a.append(np.mean(y_return_test3a.sample(n=100)))\n",
    "    r3b.append(np.mean(y_return_test3b.sample(n=100)))\n",
    "    r3c.append(np.mean(y_return_test3c.sample(n=100)))\n",
    "print(\"The average returns of return1  is \" + str(np.mean(r1)))\n",
    "print(\"The average returns of return2  is \" + str(np.mean(r2)))\n",
    "print(\"The average returns of return3a is \" + str(np.mean(r3a)))\n",
    "print(\"The average returns of return3b is \" + str(np.mean(r3b)))\n",
    "print(\"The average returns of return3c is \" + str(np.mean(r3c)))"
   ]
  },
  {
   "cell_type": "markdown",
   "metadata": {},
   "source": [
    "# Return Based Strategy\n",
    "# Exercise 3.2 ---- [5/30]\n",
    "\n",
    "In this section, you implement a return based strategy, i.e. you will estimate the return of the loans (here using linear regression) and choose 100 loans with the highest return. More specifically, use Ridge regression and suppose that you have done your cross validation and it turns out the optimal hyperparameter for alpha is 240.\n",
    "\n",
    "Use the same dataset and notion of returns as in Exercise 3.1 and only use continuous features. The goal is to estimate the  return (for each notion of return as in Exercise 3.1) that an investor will obtain following this strategy. \n",
    "\n",
    "Provide your solution after this block. Do not forget to print your result.\n",
    "\n",
    "\n"
   ]
  },
  {
   "cell_type": "code",
   "execution_count": 86,
   "metadata": {},
   "outputs": [],
   "source": [
    "r1_test=[]\n",
    "clf = Ridge(alpha=240)\n",
    "clf.fit(x_train, y_return_train1)\n",
    "y_return_pre1=clf.predict(x_test)\n",
    "res = sorted(y_return_pre1, reverse = True)[:100]\n",
    "for count, value in enumerate(y_return_pre1):\n",
    "    if value in res:\n",
    "        r1_test.append(y_return_test1.values[count])\n"
   ]
  },
  {
   "cell_type": "code",
   "execution_count": 87,
   "metadata": {},
   "outputs": [
    {
     "data": {
      "text/plain": [
       "0.04596370925645696"
      ]
     },
     "execution_count": 87,
     "metadata": {},
     "output_type": "execute_result"
    }
   ],
   "source": [
    "np.mean(res)"
   ]
  },
  {
   "cell_type": "code",
   "execution_count": 88,
   "metadata": {},
   "outputs": [],
   "source": [
    "r2_test=[]\n",
    "clf = Ridge(alpha=240)\n",
    "clf.fit(x_train, y_return_train2)\n",
    "y_return_pre2=clf.predict(x_test)\n",
    "res = sorted(y_return_pre2, reverse = True)[:100]\n",
    "for count, value in enumerate(y_return_pre2):\n",
    "    if value in res:\n",
    "        r2_test.append(y_return_test2.values[count])"
   ]
  },
  {
   "cell_type": "code",
   "execution_count": 89,
   "metadata": {},
   "outputs": [
    {
     "data": {
      "text/plain": [
       "0.12452493404207292"
      ]
     },
     "execution_count": 89,
     "metadata": {},
     "output_type": "execute_result"
    }
   ],
   "source": [
    "np.mean(res)"
   ]
  },
  {
   "cell_type": "code",
   "execution_count": 90,
   "metadata": {},
   "outputs": [],
   "source": [
    "r3a_test=[]\n",
    "clf = Ridge(alpha=240)\n",
    "clf.fit(x_train, y_return_train3a)\n",
    "y_return_pre3a=clf.predict(x_test)\n",
    "res = sorted(y_return_pre3a, reverse = True)[:100]\n",
    "for count, value in enumerate(y_return_pre3a):\n",
    "    if value in res:\n",
    "        r3a_test.append(y_return_test3a.values[count])"
   ]
  },
  {
   "cell_type": "code",
   "execution_count": 91,
   "metadata": {},
   "outputs": [
    {
     "data": {
      "text/plain": [
       "0.044971746691009305"
      ]
     },
     "execution_count": 91,
     "metadata": {},
     "output_type": "execute_result"
    }
   ],
   "source": [
    "np.mean(res)"
   ]
  },
  {
   "cell_type": "code",
   "execution_count": 92,
   "metadata": {},
   "outputs": [],
   "source": [
    "r3b_test=[]\n",
    "clf = Ridge(alpha=240)\n",
    "clf.fit(x_train, y_return_train3b)\n",
    "y_return_pre3b=clf.predict(x_test)\n",
    "res = sorted(y_return_pre3b, reverse = True)[:100]\n",
    "for count, value in enumerate(y_return_pre3b):\n",
    "    if value in res:\n",
    "        r3b_test.append(y_return_test3b.values[count])"
   ]
  },
  {
   "cell_type": "code",
   "execution_count": 93,
   "metadata": {},
   "outputs": [
    {
     "data": {
      "text/plain": [
       "0.0643855081675103"
      ]
     },
     "execution_count": 93,
     "metadata": {},
     "output_type": "execute_result"
    }
   ],
   "source": [
    "np.mean(res)"
   ]
  },
  {
   "cell_type": "code",
   "execution_count": 94,
   "metadata": {},
   "outputs": [],
   "source": [
    "r3c_test=[]\n",
    "clf = Ridge(alpha=240)\n",
    "clf.fit(x_train, y_return_train3c)\n",
    "y_return_pre3c=clf.predict(x_test)\n",
    "res = sorted(y_return_pre3c, reverse = True)[:100]\n",
    "for count, value in enumerate(y_return_pre3c):\n",
    "    if value in res:\n",
    "        r3c_test.append(y_return_test3c.values[count])"
   ]
  },
  {
   "cell_type": "code",
   "execution_count": 95,
   "metadata": {},
   "outputs": [
    {
     "data": {
      "text/plain": [
       "0.10051069766611956"
      ]
     },
     "execution_count": 95,
     "metadata": {},
     "output_type": "execute_result"
    }
   ],
   "source": [
    "np.mean(res)"
   ]
  },
  {
   "cell_type": "code",
   "execution_count": 96,
   "metadata": {
    "scrolled": true
   },
   "outputs": [
    {
     "name": "stdout",
     "output_type": "stream",
     "text": [
      "The average returns of return1  is 0.021225409277534343\n",
      "The average returns of return2  is 0.058890925043272514\n",
      "The average returns of return3a is 0.023851225553156677\n",
      "The average returns of return3b is 0.03664908214740802\n",
      "The average returns of return3c is 0.06709502108830714\n"
     ]
    }
   ],
   "source": [
    "print(\"The average returns of return1  is \" + str(np.mean(r1_test)))\n",
    "print(\"The average returns of return2  is \" + str(np.mean(r2_test)))\n",
    "print(\"The average returns of return3a is \" + str(np.mean(r3a_test)))\n",
    "print(\"The average returns of return3b is \" + str(np.mean(r3b_test)))\n",
    "print(\"The average returns of return3c is \" + str(np.mean(r3c_test)))"
   ]
  },
  {
   "cell_type": "markdown",
   "metadata": {},
   "source": [
    "# Exercise 3.3 ---- [5/30]\n",
    "\n",
    "Repeat Exercise 3.2 but instead of a linear model use a neural network. Your neural network will have\n",
    "two hidden layers. You can choose the rest of the parameters of the network as appropriate. Since \n",
    "using a cross validation to choose the best architecture takes time, you are not required to perform\n",
    "any cross validation to choose the optimal architecture. However, the return of your model should be reasonable and at \n",
    "least as good as the linear model in the previous exercise.  \n",
    "\n",
    "Use the same dataset and notions of returns as in Exercise 3.2.\n",
    "\n",
    "Provide your solution after this block. Do not forget to print your result.\n"
   ]
  },
  {
   "cell_type": "code",
   "execution_count": 107,
   "metadata": {},
   "outputs": [],
   "source": [
    "# initialize the column names of the continuous data\n",
    "# performin min-max scaling each continuous feature column to\n",
    "# the range [0, 1]\n",
    "cs = MinMaxScaler()\n",
    "x_nn = cs.fit_transform(x_continuous)\n",
    "x_train, x_test, y_return_train1, y_return_test1 = train_test_split(x_nn, y_return1, test_size=0.4,\n",
    "                                                                  random_state=default_seed) \n",
    "x_test, x_val, y_return_test1, y_return_val1 = train_test_split(x_test, y_return_test1, test_size=0.5,\n",
    "                                                                  random_state=default_seed) \n",
    "x_train, x_test, y_return_train2, y_return_test2 = train_test_split(x_nn, y_return2, test_size=0.4,\n",
    "                                                                  random_state=default_seed) \n",
    "x_test, x_val, y_return_test2, y_return_val2 = train_test_split(x_test, y_return_test2, test_size=0.5,\n",
    "                                                                  random_state=default_seed) \n",
    "x_train, x_test, y_return_train3a, y_return_test3a = train_test_split(x_nn, y_return3a, test_size=0.4,\n",
    "                                                                  random_state=default_seed) \n",
    "x_test, x_val, y_return_test3a, y_return_val3a = train_test_split(x_test, y_return_test3a, test_size=0.5,\n",
    "                                                                  random_state=default_seed) \n",
    "x_train, x_test, y_return_train3b, y_return_test3b = train_test_split(x_nn, y_return3b, test_size=0.4,\n",
    "                                                                  random_state=default_seed) \n",
    "x_test, x_val, y_return_test3b, y_return_val3b = train_test_split(x_test, y_return_test3b, test_size=0.5,\n",
    "                                                                  random_state=default_seed) \n",
    "x_train, x_test, y_return_train3c, y_return_test3c = train_test_split(x_nn, y_return3c, test_size=0.4,\n",
    "                                                                  random_state=default_seed) \n",
    "x_test, x_val, y_return_test3c, y_return_val3c = train_test_split(x_test, y_return_test3c, test_size=0.5,\n",
    "                                                                  random_state=default_seed) "
   ]
  },
  {
   "cell_type": "code",
   "execution_count": 108,
   "metadata": {},
   "outputs": [
    {
     "name": "stdout",
     "output_type": "stream",
     "text": [
      "Epoch 1/3\n",
      "364/364 [==============================] - 8s 22ms/step - loss: 0.0159\n",
      "Epoch 2/3\n",
      "364/364 [==============================] - 10s 27ms/step - loss: 0.0067\n",
      "Epoch 3/3\n",
      "364/364 [==============================] - 10s 26ms/step - loss: 0.0066\n"
     ]
    },
    {
     "data": {
      "text/plain": [
       "0.009402039927653441"
      ]
     },
     "execution_count": 108,
     "metadata": {},
     "output_type": "execute_result"
    }
   ],
   "source": [
    "#生成Sequential 顺序模型\n",
    "model = Sequential()\n",
    "\n",
    "#创建两个layer\n",
    "layer1 = Dense(512,use_bias = False, input_dim=13, kernel_initializer='he_uniform', activation='relu')\n",
    "layer2 = Dense(256,use_bias = False, input_dim=13, kernel_initializer='he_uniform', activation='relu')\n",
    "layer3 = Dense(128,use_bias = False, input_dim=13, kernel_initializer='he_uniform', activation='relu')\n",
    "\n",
    "\n",
    "#使用 .add() 来堆叠模型\n",
    "#现在模型会以尺寸为 (*, 13) 的数组作为输入,其输出数组的尺寸为 (*, 1)\n",
    "model.add(layer1)\n",
    "#在第一层之后，就不再需要指定输入的尺寸了\n",
    "model.add(layer2)\n",
    "model.add(layer3)\n",
    "model.add(Dense(1, activation='linear'))\n",
    "\n",
    "#使用 .compile() 来配置学习过程\n",
    "model.compile(optimizer='rmsprop',\n",
    "              loss='mse')\n",
    "r1_test=[]\n",
    "cs = MinMaxScaler()\n",
    "x_train=cs.fit_transform(x_train)\n",
    "x_test=cs.fit_transform(x_test)\n",
    "model.fit(x_train, y_return_train1,epochs=3, batch_size=1000)\n",
    "y_return_pre1=model.predict(x_test)\n",
    "res = sorted(y_return_pre1, reverse = True)[:100]\n",
    "for count, value in enumerate(y_return_pre1):\n",
    "    if value in res:\n",
    "        r1_test.append(y_return_test1.values[count])\n",
    "np.mean(r1_test)"
   ]
  },
  {
   "cell_type": "code",
   "execution_count": 109,
   "metadata": {},
   "outputs": [
    {
     "name": "stdout",
     "output_type": "stream",
     "text": [
      "Epoch 1/3\n",
      "364/364 [==============================] - 8s 21ms/step - loss: 0.0115\n",
      "Epoch 2/3\n",
      "364/364 [==============================] - 7s 19ms/step - loss: 0.0115\n",
      "Epoch 3/3\n",
      "364/364 [==============================] - 8s 22ms/step - loss: 0.0115\n"
     ]
    },
    {
     "data": {
      "text/plain": [
       "0.12797865065301808"
      ]
     },
     "execution_count": 109,
     "metadata": {},
     "output_type": "execute_result"
    }
   ],
   "source": [
    "r2_test=[]\n",
    "model.fit(x_train, y_return_train2,epochs=3, batch_size=1000)\n",
    "y_return_pre2=model.predict(x_test)\n",
    "res = sorted(y_return_pre2, reverse = True)[:100]\n",
    "for count, value in enumerate(y_return_pre2):\n",
    "    if value in res:\n",
    "        r2_test.append(y_return_test2.values[count])\n",
    "np.mean(r2_test)"
   ]
  },
  {
   "cell_type": "code",
   "execution_count": 110,
   "metadata": {},
   "outputs": [
    {
     "name": "stdout",
     "output_type": "stream",
     "text": [
      "Epoch 1/3\n",
      "364/364 [==============================] - 6s 16ms/step - loss: 0.0036\n",
      "Epoch 2/3\n",
      "364/364 [==============================] - 6s 17ms/step - loss: 0.0036\n",
      "Epoch 3/3\n",
      "364/364 [==============================] - 6s 16ms/step - loss: 0.0035\n"
     ]
    }
   ],
   "source": [
    "r3a_test=[]\n",
    "model.fit(x_train, y_return_train3a,epochs=3, batch_size=1000)\n",
    "y_return_pre3a=model.predict(x_test)\n",
    "res = sorted(y_return_pre3a, reverse = True)[:100]\n",
    "for count, value in enumerate(y_return_pre3a):\n",
    "    if value in res:\n",
    "        r3a_test.append(y_return_test3a.values[count])"
   ]
  },
  {
   "cell_type": "code",
   "execution_count": 111,
   "metadata": {},
   "outputs": [
    {
     "name": "stdout",
     "output_type": "stream",
     "text": [
      "Epoch 1/3\n",
      "364/364 [==============================] - 5s 14ms/step - loss: 0.0041\n",
      "Epoch 2/3\n",
      "364/364 [==============================] - 30s 83ms/step - loss: 0.0040\n",
      "Epoch 3/3\n",
      "364/364 [==============================] - 21s 56ms/step - loss: 0.0040\n"
     ]
    }
   ],
   "source": [
    "r3b_test=[]\n",
    "model.fit(x_train, y_return_train3b,epochs=3, batch_size=1000)\n",
    "y_return_pre3b=model.predict(x_test)\n",
    "res = sorted(y_return_pre3b, reverse = True)[:100]\n",
    "for count, value in enumerate(y_return_pre3b):\n",
    "    if value in res:\n",
    "        r3b_test.append(y_return_test3b.values[count])"
   ]
  },
  {
   "cell_type": "code",
   "execution_count": 112,
   "metadata": {},
   "outputs": [
    {
     "name": "stdout",
     "output_type": "stream",
     "text": [
      "Epoch 1/3\n",
      "364/364 [==============================] - 6s 16ms/step - loss: 0.0051\n",
      "Epoch 2/3\n",
      "364/364 [==============================] - 1203s 3s/step - loss: 0.0051\n",
      "Epoch 3/3\n",
      "364/364 [==============================] - 8s 22ms/step - loss: 0.0051\n"
     ]
    }
   ],
   "source": [
    "r3c_test=[]\n",
    "model.fit(x_train, y_return_train3c,epochs=3, batch_size=1000)\n",
    "y_return_pre3c=model.predict(x_test)\n",
    "res = sorted(y_return_pre3c, reverse = True)[:100]\n",
    "for count, value in enumerate(y_return_pre3c):\n",
    "    if value in res:\n",
    "        r3c_test.append(y_return_test3c.values[count])"
   ]
  },
  {
   "cell_type": "code",
   "execution_count": 113,
   "metadata": {},
   "outputs": [
    {
     "name": "stdout",
     "output_type": "stream",
     "text": [
      "The average returns of return1  is 0.009402039927653441\n",
      "The average returns of return2  is 0.12797865065301808\n",
      "The average returns of return3a is 0.02969940110393391\n",
      "The average returns of return3b is 0.04050067379966151\n",
      "The average returns of return3c is 0.0682262511903451\n"
     ]
    }
   ],
   "source": [
    "print(\"The average returns of return1  is \" + str(np.mean(r1_test)))\n",
    "print(\"The average returns of return2  is \" + str(np.mean(r2_test)))\n",
    "print(\"The average returns of return3a is \" + str(np.mean(r3a_test)))\n",
    "print(\"The average returns of return3b is \" + str(np.mean(r3b_test)))\n",
    "print(\"The average returns of return3c is \" + str(np.mean(r3c_test)))"
   ]
  },
  {
   "cell_type": "markdown",
   "metadata": {},
   "source": [
    "# Default Based Strategy\n",
    "# Exercise 3.4 --- [8/30]\n",
    "\n",
    "In this exercise, you will implement a default based strategy, i.e. to select 100 loans with the highest credit quality (a loan with PD of zero has the highest credit quality). For the feature space, use only the same continuous features as Exercise 3.2; you will need to determine the output as well. Split the dataset: 60% training, 20% cross validation (though we don't perform cross validation here), and 20% testing.\n",
    "\n",
    "Train three machine learning models (of your choice) to estimate the probability of default for these loans. Note that for simplicity, ignore any cross validation analysis that might have been done or required but use reasonable parameters. For instance for a logistic regression model, one can use l2 penalty with C=1, and an appropriate solver of your choice. \n",
    "\n",
    "Although in practice, you should provide justification for the choice of the models, you are not required to provide such justification for this exercise.\n",
    "\n",
    "For each notion of the returns [\"return_1\",\"return_2\",\"return_3a\",\"return_3b\",\"return_3c\"] estimate the return of this strategy.\n",
    "\n",
    "Provide your solution after this block. Do not forget to print your result.\n"
   ]
  },
  {
   "cell_type": "code",
   "execution_count": 102,
   "metadata": {},
   "outputs": [],
   "source": [
    "x_train, x_test, y_credit_train, y_credit_test = train_test_split(x_continuous, y, test_size=0.4,\n",
    "                                                                  random_state=default_seed) \n",
    "x_test, x_val, y_credit_test, y_credit_val = train_test_split(x_test, y_credit_test, test_size=0.5,\n",
    "                                                                  random_state=default_seed) "
   ]
  },
  {
   "cell_type": "code",
   "execution_count": 103,
   "metadata": {},
   "outputs": [],
   "source": [
    "rf = RandomForestClassifier(n_estimators=100, max_depth=2,random_state=0)\n",
    "rf.fit(x_train, y_credit_train)\n",
    "y_credit_pre=rf.predict_proba(x_test)\n",
    "res = sorted(y_credit_pre.T[0], reverse = True)[:100]\n",
    "r1_test=[]\n",
    "r2_test=[]\n",
    "r3a_test=[]\n",
    "r3b_test=[]\n",
    "r3c_test=[]\n",
    "for count, value in enumerate(y_credit_pre.T[0]):\n",
    "    if value in res:\n",
    "        r1_test.append(y_return_test1.values[count])\n",
    "        r2_test.append(y_return_test2.values[count])\n",
    "        r3a_test.append(y_return_test3a.values[count])\n",
    "        r3b_test.append(y_return_test3b.values[count])\n",
    "        r3c_test.append(y_return_test3c.values[count])\n",
    "r_rf=[np.mean(r1_test),np.mean(r2_test),np.mean(r3a_test),np.mean(r3b_test),np.mean(r3c_test)]"
   ]
  },
  {
   "cell_type": "code",
   "execution_count": 104,
   "metadata": {},
   "outputs": [],
   "source": [
    "lr = LogisticRegression(random_state=0,C=1.0,max_iter=1000,penalty='l2').fit(x_train, y_credit_train)\n",
    "y_credit_pre=lr.predict_proba(x_test)\n",
    "res = sorted(y_credit_pre.T[0], reverse = True)[:100]\n",
    "r1_test=[]\n",
    "r2_test=[]\n",
    "r3a_test=[]\n",
    "r3b_test=[]\n",
    "r3c_test=[]\n",
    "for count, value in enumerate(y_credit_pre.T[0]):\n",
    "    if value in res:\n",
    "        r1_test.append(y_return_test1.values[count])\n",
    "        r2_test.append(y_return_test2.values[count])\n",
    "        r3a_test.append(y_return_test3a.values[count])\n",
    "        r3b_test.append(y_return_test3b.values[count])\n",
    "        r3c_test.append(y_return_test3c.values[count])\n",
    "r_lr=[np.mean(r1_test),np.mean(r2_test),np.mean(r3a_test),np.mean(r3b_test),np.mean(r3c_test)]"
   ]
  },
  {
   "cell_type": "code",
   "execution_count": 105,
   "metadata": {},
   "outputs": [],
   "source": [
    "svc = make_pipeline(StandardScaler(), SVC(gamma='auto',max_iter=100,probability=True))\n",
    "svc.fit(x_train, y_credit_train)\n",
    "y_credit_pre=svc.predict_proba(x_test)\n",
    "res = sorted(y_credit_pre.T[0], reverse = True)[:100]\n",
    "r1_test=[]\n",
    "r2_test=[]\n",
    "r3a_test=[]\n",
    "r3b_test=[]\n",
    "r3c_test=[]\n",
    "for count, value in enumerate(y_credit_pre.T[0]):\n",
    "    if value in res:\n",
    "        r1_test.append(y_return_test1.values[count])\n",
    "        r2_test.append(y_return_test2.values[count])\n",
    "        r3a_test.append(y_return_test3a.values[count])\n",
    "        r3b_test.append(y_return_test3b.values[count])\n",
    "        r3c_test.append(y_return_test3c.values[count])\n",
    "r_svc=[np.mean(r1_test),np.mean(r2_test),np.mean(r3a_test),np.mean(r3b_test),np.mean(r3c_test)]"
   ]
  },
  {
   "cell_type": "code",
   "execution_count": 106,
   "metadata": {},
   "outputs": [
    {
     "data": {
      "text/html": [
       "<div>\n",
       "<style scoped>\n",
       "    .dataframe tbody tr th:only-of-type {\n",
       "        vertical-align: middle;\n",
       "    }\n",
       "\n",
       "    .dataframe tbody tr th {\n",
       "        vertical-align: top;\n",
       "    }\n",
       "\n",
       "    .dataframe thead th {\n",
       "        text-align: right;\n",
       "    }\n",
       "</style>\n",
       "<table border=\"1\" class=\"dataframe\">\n",
       "  <thead>\n",
       "    <tr style=\"text-align: right;\">\n",
       "      <th></th>\n",
       "      <th>Random Forest</th>\n",
       "      <th>Logistc Regression</th>\n",
       "      <th>Support Vector</th>\n",
       "    </tr>\n",
       "  </thead>\n",
       "  <tbody>\n",
       "    <tr>\n",
       "      <th>return_1</th>\n",
       "      <td>0.017391</td>\n",
       "      <td>0.013895</td>\n",
       "      <td>0.012658</td>\n",
       "    </tr>\n",
       "    <tr>\n",
       "      <th>return_2</th>\n",
       "      <td>0.052075</td>\n",
       "      <td>0.040547</td>\n",
       "      <td>0.049067</td>\n",
       "    </tr>\n",
       "    <tr>\n",
       "      <th>return_3a</th>\n",
       "      <td>0.021730</td>\n",
       "      <td>0.018732</td>\n",
       "      <td>0.018578</td>\n",
       "    </tr>\n",
       "    <tr>\n",
       "      <th>return_3b</th>\n",
       "      <td>0.039821</td>\n",
       "      <td>0.035161</td>\n",
       "      <td>0.035673</td>\n",
       "    </tr>\n",
       "    <tr>\n",
       "      <th>return_3c</th>\n",
       "      <td>0.073312</td>\n",
       "      <td>0.065380</td>\n",
       "      <td>0.067212</td>\n",
       "    </tr>\n",
       "  </tbody>\n",
       "</table>\n",
       "</div>"
      ],
      "text/plain": [
       "           Random Forest  Logistc Regression  Support Vector\n",
       "return_1        0.017391            0.013895        0.012658\n",
       "return_2        0.052075            0.040547        0.049067\n",
       "return_3a       0.021730            0.018732        0.018578\n",
       "return_3b       0.039821            0.035161        0.035673\n",
       "return_3c       0.073312            0.065380        0.067212"
      ]
     },
     "execution_count": 106,
     "metadata": {},
     "output_type": "execute_result"
    }
   ],
   "source": [
    "df=pd.DataFrame({'Random Forest':r_rf,'Logistc Regression':r_lr,'Support Vector':r_svc})\n",
    "df.index=return_cols\n",
    "df"
   ]
  },
  {
   "cell_type": "markdown",
   "metadata": {},
   "source": [
    "# Exercise 3.5 [Max 300 words] --- [4/30]\n",
    "\n",
    "Compare the last three strategies, i.e. random, return (as in the two models of Exercises 3.2, 3.3), and default; which strategy you will pick and why.\n",
    "\n",
    "Provide and explain a new investment strategy that is different from those strategies explained above.\n",
    "\n",
    "Your explanations should be right to the point, concise, clear, and free from spelling error and grammatically correct.\n",
    "\n",
    "Write your answer below:\n"
   ]
  },
  {
   "cell_type": "code",
   "execution_count": null,
   "metadata": {},
   "outputs": [],
   "source": []
  }
 ],
 "metadata": {
  "kernelspec": {
   "display_name": "Python 3",
   "language": "python",
   "name": "python3"
  },
  "language_info": {
   "codemirror_mode": {
    "name": "ipython",
    "version": 3
   },
   "file_extension": ".py",
   "mimetype": "text/x-python",
   "name": "python",
   "nbconvert_exporter": "python",
   "pygments_lexer": "ipython3",
   "version": "3.7.6"
  }
 },
 "nbformat": 4,
 "nbformat_minor": 2
}
